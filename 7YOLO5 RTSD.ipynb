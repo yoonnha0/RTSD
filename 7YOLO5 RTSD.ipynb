{
 "cells": [
  {
   "cell_type": "code",
   "execution_count": 1,
   "id": "e51cb461",
   "metadata": {},
   "outputs": [],
   "source": [
    "import pandas as pd\n",
    "from tqdm.notebook import tqdm\n",
    "import os\n",
    "from shutil import copyfile, move\n",
    "import sys\n",
    "import json"
   ]
  },
  {
   "cell_type": "markdown",
   "id": "e8defceb",
   "metadata": {},
   "source": [
    "# Преобразование набора данных в YOLO-формат"
   ]
  },
  {
   "cell_type": "code",
   "execution_count": 2,
   "id": "d02787cf",
   "metadata": {},
   "outputs": [],
   "source": [
    "# !git clone https://github.com/ultralytics/JSON2YOLO"
   ]
  },
  {
   "cell_type": "code",
   "execution_count": 3,
   "id": "ff010df1",
   "metadata": {},
   "outputs": [],
   "source": [
    "sys.path.append('./JSON2YOLO')\n",
    "from JSON2YOLO.general_json2yolo import convert_coco_json"
   ]
  },
  {
   "cell_type": "markdown",
   "id": "fdaf68f2",
   "metadata": {},
   "source": [
    "Нужно модифицировать 274 строку в файле general_json2yolo.py следующим образом:\n",
    "\n",
    "h, w, f = img['height'], img['width'], img['file_name'].split('/')[1]"
   ]
  },
  {
   "cell_type": "code",
   "execution_count": 5,
   "id": "7ce4698f",
   "metadata": {},
   "outputs": [],
   "source": [
    "test_path = 'test_annotation'\n",
    "train_path = 'train_annotation'\n",
    "\n",
    "os.makedirs(train_path, exist_ok=True)\n",
    "os.makedirs(test_path, exist_ok=True)\n",
    "\n",
    "move('train_anno.json', os.path.join(train_path, 'train_anno.json'))\n",
    "move('val_anno.json', os.path.join(test_path, 'val_anno.json'))\n",
    "\n",
    "for folder in ['labels', 'images']:\n",
    "    for path in [test_path, train_path]:\n",
    "        os.makedirs(os.path.join(path, folder), exist_ok=True)"
   ]
  },
  {
   "cell_type": "code",
   "execution_count": 4,
   "id": "3bf315b4",
   "metadata": {},
   "outputs": [
    {
     "name": "stderr",
     "output_type": "stream",
     "text": [
      "Annotations C:\\Users\\150ho\\Desktop\\DS\\проект\\znaki\\train_annotation\\train_anno.json: 100%|██████████| 54188/54188 [01:50<00:00, 490.62it/s]\n"
     ]
    },
    {
     "data": {
      "application/vnd.jupyter.widget-view+json": {
       "model_id": "b195a07d49c74fb38ffc5367f15b1cf0",
       "version_major": 2,
       "version_minor": 0
      },
      "text/plain": [
       "  0%|          | 0/54188 [00:00<?, ?it/s]"
      ]
     },
     "metadata": {},
     "output_type": "display_data"
    },
    {
     "name": "stderr",
     "output_type": "stream",
     "text": [
      "Annotations C:\\Users\\150ho\\Desktop\\DS\\проект\\znaki\\test_annotation\\val_anno.json: 100%|██████████| 5000/5000 [00:09<00:00, 510.16it/s]\n"
     ]
    },
    {
     "data": {
      "application/vnd.jupyter.widget-view+json": {
       "model_id": "a076380240124dd0ae8be19bd2abf246",
       "version_major": 2,
       "version_minor": 0
      },
      "text/plain": [
       "  0%|          | 0/5000 [00:00<?, ?it/s]"
      ]
     },
     "metadata": {},
     "output_type": "display_data"
    }
   ],
   "source": [
    "convert_coco_json(train_path)\n",
    "for file in tqdm(os.listdir(os.path.join('new_dir/labels/train_anno'))):\n",
    "    move(os.path.join('new_dir/labels/train_anno', file), os.path.join(train_path, 'labels', file))\n",
    "    \n",
    "convert_coco_json('./test_annotation/')\n",
    "for file in tqdm(os.listdir(os.path.join('new_dir/labels/val_anno'))):\n",
    "    move(os.path.join('new_dir/labels/val_anno', file), os.path.join(test_path, 'labels', file))"
   ]
  },
  {
   "cell_type": "code",
   "execution_count": 6,
   "id": "1615be78",
   "metadata": {},
   "outputs": [],
   "source": [
    "test_labels = os.listdir(os.path.join(test_path, 'labels'))\n",
    "train_labels = os.listdir(os.path.join(train_path, 'labels'))\n",
    "\n",
    "test_labels = set(map(lambda x: x.split('.')[0], test_labels))\n",
    "train_labels = set(map(lambda x: x.split('.')[0], train_labels))\n",
    "\n",
    "images = 'rtsd-frames'\n",
    "for file in os.listdir(images):\n",
    "    name = file.split('.')[0]\n",
    "    if name in train_labels:\n",
    "        move(os.path.join(images, file), os.path.join(train_path,'images', file))\n",
    "    if name in test_labels:\n",
    "        move(os.path.join(images, file), os.path.join(test_path,'images', file))"
   ]
  },
  {
   "cell_type": "code",
   "execution_count": 19,
   "id": "6b8f7128",
   "metadata": {},
   "outputs": [],
   "source": [
    "with open('label_map.json') as f:\n",
    "    data = json.load(f)"
   ]
  },
  {
   "cell_type": "code",
   "execution_count": 2,
   "id": "a60b9f4e",
   "metadata": {},
   "outputs": [],
   "source": [
    "# list(data.keys())"
   ]
  },
  {
   "cell_type": "code",
   "execution_count": 3,
   "id": "a0206276",
   "metadata": {},
   "outputs": [
    {
     "name": "stderr",
     "output_type": "stream",
     "text": [
      "YOLOv5  v7.0-134-g23c4923 Python-3.9.12 torch-1.13.1+cpu CPU\n"
     ]
    },
    {
     "name": "stdout",
     "output_type": "stream",
     "text": [
      "Setup complete  (8 CPUs, 13.9 GB RAM, 211.5/237.7 GB disk)\n"
     ]
    }
   ],
   "source": [
    "# !git clone https://github.com/ultralytics/yolov5  # clone\n",
    "%cd yolov5\n",
    "%pip install -qr requirements.txt  # install\n",
    "\n",
    "import torch\n",
    "import utils\n",
    "display = utils.notebook_init()  # checks"
   ]
  },
  {
   "cell_type": "code",
   "execution_count": 3,
   "id": "22c4e8d2",
   "metadata": {},
   "outputs": [
    {
     "name": "stdout",
     "output_type": "stream",
     "text": [
      "Writing ./yolov5/data/rtsd.yaml\n"
     ]
    }
   ],
   "source": [
    "%%writefile ./yolov5/data/rtsd.yaml\n",
    "\n",
    "# train and val datasets (image directory or *.txt file with image paths)\n",
    "train: train_annotation/images  # train images (relative to 'path') \n",
    "val: test_annotation/images  # val images (relative to 'path') \n",
    "\n",
    "\n",
    "# number of classes\n",
    "nc: 155\n",
    "\n",
    "# class names\n",
    "names: ['2_1', '1_23', '1_17', '3_24', '8_2_1', '5_20', '5_19_1', '5_16', '3_25', '6_16', '7_15', '2_2', '2_4', '8_13_1', '4_2_1', '1_20_3', '1_25', '3_4', '8_3_2', '3_4_1', '4_1_6', '4_2_3', '4_1_1', '1_33', '5_15_5', '3_27', '1_15', '4_1_2_1', '6_3_1', '8_1_1', '6_7', '5_15_3', '7_3', '1_19', '6_4', '8_1_4', '8_8', '1_16', '1_11_1', '6_6', '5_15_1', '7_2', '5_15_2', '7_12', '3_18', '5_6', '5_5', '7_4', '4_1_2', '8_2_2', '7_11', '1_22', '1_27', '2_3_2', '5_15_2_2', '1_8', '3_13', '2_3', '8_3_3', '2_3_3', '7_7', '1_11', '8_13', '1_12_2', '1_20', '1_12', '3_32', '2_5', '3_1', '4_8_2', '3_20', '3_2', '2_3_6', '5_22', '5_18', '2_3_5', '7_5', '8_4_1', '3_14', '1_2', '1_20_2', '4_1_4', '7_6', '8_1_3', '8_3_1', '4_3', '4_1_5', '8_2_3', '8_2_4', '1_31', '3_10', '4_2_2', '7_1', '3_28', '4_1_3', '5_4', '5_3', '6_8_2', '3_31', '6_2', '1_21', '3_21', '1_13', '1_14', '2_3_4', '4_8_3', '6_15_2', '2_6', '3_18_2', '4_1_2_2', '1_7', '3_19', '1_18', '2_7', '8_5_4', '5_15_7', '5_14', '5_21', '1_1', '6_15_1', '8_6_4', '8_15', '4_5', '3_11', '8_18', '8_4_4', '3_30', '5_7_1', '5_7_2', '1_5', '3_29', '6_15_3', '5_12', '3_16', '1_30', '5_11', '1_6', '8_6_2', '6_8_3', '3_12', '3_33', '8_4_3', '5_8', '8_14', '8_17', '3_6', '1_26', '8_5_2', '6_8_1', '5_17', '1_10', '8_16', '7_18', '7_14', '8_23']"
   ]
  },
  {
   "cell_type": "code",
   "execution_count": 4,
   "id": "337cf016",
   "metadata": {},
   "outputs": [
    {
     "data": {
      "text/plain": [
       "'C:\\\\Users\\\\150ho\\\\Desktop\\\\DS\\\\проект\\\\znaki\\\\yolov5'"
      ]
     },
     "execution_count": 4,
     "metadata": {},
     "output_type": "execute_result"
    }
   ],
   "source": [
    "os.getcwd()"
   ]
  },
  {
   "cell_type": "code",
   "execution_count": 5,
   "id": "1d8f0ea6",
   "metadata": {},
   "outputs": [],
   "source": [
    "os.chdir('./yolov5')"
   ]
  },
  {
   "cell_type": "code",
   "execution_count": 6,
   "id": "778d0596",
   "metadata": {},
   "outputs": [],
   "source": [
    "!python train.py --img 1280 --batch -1 --epochs 10 --data rtsd.yaml --weights yolov5m6.pt --project \"RTSD\" --name \"yolov5m6\""
   ]
  },
  {
   "cell_type": "raw",
   "id": "0728e6bd",
   "metadata": {},
   "source": [
    "2023-04-06 08:24:17.763980: I tensorflow/core/platform/cpu_feature_guard.cc:182] This TensorFlow binary is optimized to use available CPU instructions in performance-critical operations.\n",
    "To enable the following instructions: AVX2 FMA, in other operations, rebuild TensorFlow with the appropriate compiler flags.\n",
    "2023-04-06 08:24:18.773994: W tensorflow/compiler/tf2tensorrt/utils/py_utils.cc:38] TF-TRT Warning: Could not find TensorRT\n",
    "train: weights=yolov5m6.pt, cfg=, data=rtsd.yaml, hyp=data/hyps/hyp.scratch-low.yaml, epochs=10, batch_size=-1, imgsz=1280, rect=False, resume=False, nosave=False, noval=False, noautoanchor=False, noplots=False, evolve=None, bucket=, cache=None, image_weights=False, device=, multi_scale=False, single_cls=False, optimizer=SGD, sync_bn=False, workers=8, project=RTSD, name=yolov5m6, exist_ok=False, quad=False, cos_lr=False, label_smoothing=0.0, patience=100, freeze=[0], save_period=-1, seed=0, local_rank=-1, entity=None, upload_dataset=False, bbox_interval=-1, artifact_alias=latest\n",
    "github: up to date with https://github.com/ultralytics/yolov5 ✅\n",
    "YOLOv5 🚀 v7.0-134-g23c4923 Python-3.9.16 torch-2.0.0+cu118 CUDA:0 (Tesla T4, 15102MiB)\n",
    "\n",
    "hyperparameters: lr0=0.01, lrf=0.01, momentum=0.937, weight_decay=0.0005, warmup_epochs=3.0, warmup_momentum=0.8, warmup_bias_lr=0.1, box=0.05, cls=0.5, cls_pw=1.0, obj=1.0, obj_pw=1.0, iou_t=0.2, anchor_t=4.0, fl_gamma=0.0, hsv_h=0.015, hsv_s=0.7, hsv_v=0.4, degrees=0.0, translate=0.1, scale=0.5, shear=0.0, perspective=0.0, flipud=0.0, fliplr=0.5, mosaic=1.0, mixup=0.0, copy_paste=0.0\n",
    "ClearML: run 'pip install clearml' to automatically track, visualize and remotely train YOLOv5 🚀 in ClearML\n",
    "Comet: run 'pip install comet_ml' to automatically track and visualize YOLOv5 🚀 runs in Comet\n",
    "TensorBoard: Start with 'tensorboard --logdir RTSD', view at http://localhost:6006/\n",
    "Overriding model.yaml nc=80 with nc=155\n",
    "\n",
    "                 from  n    params  module                                  arguments                     \n",
    "  0                -1  1      5280  models.common.Conv                      [3, 48, 6, 2, 2]              \n",
    "  1                -1  1     41664  models.common.Conv                      [48, 96, 3, 2]                \n",
    "  2                -1  2     65280  models.common.C3                        [96, 96, 2]                   \n",
    "  3                -1  1    166272  models.common.Conv                      [96, 192, 3, 2]               \n",
    "  4                -1  4    444672  models.common.C3                        [192, 192, 4]                 \n",
    "  5                -1  1    664320  models.common.Conv                      [192, 384, 3, 2]              \n",
    "  6                -1  6   2512896  models.common.C3                        [384, 384, 6]                 \n",
    "  7                -1  1   1991808  models.common.Conv                      [384, 576, 3, 2]              \n",
    "  8                -1  2   2327040  models.common.C3                        [576, 576, 2]                 \n",
    "  9                -1  1   3982848  models.common.Conv                      [576, 768, 3, 2]              \n",
    " 10                -1  2   4134912  models.common.C3                        [768, 768, 2]                 \n",
    " 11                -1  1   1476864  models.common.SPPF                      [768, 768, 5]                 \n",
    " 12                -1  1    443520  models.common.Conv                      [768, 576, 1, 1]              \n",
    " 13                -1  1         0  torch.nn.modules.upsampling.Upsample    [None, 2, 'nearest']          \n",
    " 14           [-1, 8]  1         0  models.common.Concat                    [1]                           \n",
    " 15                -1  2   2658816  models.common.C3                        [1152, 576, 2, False]         \n",
    " 16                -1  1    221952  models.common.Conv                      [576, 384, 1, 1]              \n",
    " 17                -1  1         0  torch.nn.modules.upsampling.Upsample    [None, 2, 'nearest']          \n",
    " 18           [-1, 6]  1         0  models.common.Concat                    [1]                           \n",
    " 19                -1  2   1182720  models.common.C3                        [768, 384, 2, False]          \n",
    " 20                -1  1     74112  models.common.Conv                      [384, 192, 1, 1]              \n",
    " 21                -1  1         0  torch.nn.modules.upsampling.Upsample    [None, 2, 'nearest']          \n",
    " 22           [-1, 4]  1         0  models.common.Concat                    [1]                           \n",
    " 23                -1  2    296448  models.common.C3                        [384, 192, 2, False]          \n",
    " 24                -1  1    332160  models.common.Conv                      [192, 192, 3, 2]              \n",
    " 25          [-1, 20]  1         0  models.common.Concat                    [1]                           \n",
    " 26                -1  2   1035264  models.common.C3                        [384, 384, 2, False]          \n",
    " 27                -1  1   1327872  models.common.Conv                      [384, 384, 3, 2]              \n",
    " 28          [-1, 16]  1         0  models.common.Concat                    [1]                           \n",
    " 29                -1  2   2437632  models.common.C3                        [768, 576, 2, False]          \n",
    " 30                -1  1   2987136  models.common.Conv                      [576, 576, 3, 2]              \n",
    " 31          [-1, 12]  1         0  models.common.Concat                    [1]                           \n",
    " 32                -1  2   4429824  models.common.C3                        [1152, 768, 2, False]         \n",
    " 33  [23, 26, 29, 32]  1    923520  models.yolo.Detect                      [155, [[19, 27, 44, 40, 38, 94], [96, 68, 86, 152, 180, 137], [140, 301, 303, 264, 238, 542], [436, 615, 739, 380, 925, 792]], [192, 384, 576, 768]]\n",
    "Model summary: 379 layers, 36164832 parameters, 36164832 gradients, 51.3 GFLOPs\n",
    "\n",
    "Transferred 619/627 items from yolov5m6.pt\n",
    "AMP: checks passed ✅\n",
    "AutoBatch: Computing optimal batch size for --imgsz 1280\n",
    "AutoBatch: CUDA:0 (Tesla T4) 14.75G total, 0.61G reserved, 0.28G allocated, 13.86G free\n",
    "      Params      GFLOPs  GPU_mem (GB)  forward (ms) backward (ms)                   input                  output\n",
    "    36164832         205         1.768         49.76         76.53      (1, 3, 1280, 1280)                    list\n",
    "    36164832         410         3.320         61.03         89.31      (2, 3, 1280, 1280)                    list\n",
    "    36164832         820         6.082         122.9           152      (4, 3, 1280, 1280)                    list\n",
    "    36164832        1640        11.740         251.4         280.3      (8, 3, 1280, 1280)                    list\n",
    "CUDA out of memory. Tried to allocate 76.00 MiB (GPU 0; 14.75 GiB total capacity; 14.35 GiB already allocated; 28.81 MiB free; 14.53 GiB reserved in total by PyTorch) If reserved memory is >> allocated memory try setting max_split_size_mb to avoid fragmentation.  See documentation for Memory Management and PYTORCH_CUDA_ALLOC_CONF\n",
    "AutoBatch: Using batch-size 7 for CUDA:0 11.22G/14.75G (76%) ✅\n",
    "optimizer: SGD(lr=0.01) with parameter groups 103 weight(decay=0.0), 107 weight(decay=0.0004921875), 107 bias\n",
    "albumentations: Blur(p=0.01, blur_limit=(3, 7)), MedianBlur(p=0.01, blur_limit=(3, 7)), ToGray(p=0.01), CLAHE(p=0.01, clip_limit=(1, 4.0), tile_grid_size=(8, 8))\n",
    "train: Scanning /content/yolov5/train_annotation/labels.cache... 54188 images, 0 backgrounds, 0 corrupt: 100% 54188/54188 [00:00<?, ?it/s]\n",
    "val: Scanning /content/yolov5/test_annotation/labels.cache... 5000 images, 0 backgrounds, 0 corrupt: 100% 5000/5000 [00:00<?, ?it/s]\n",
    "\n",
    "AutoAnchor: 3.85 anchors/target, 1.000 Best Possible Recall (BPR). Current anchors are a good fit to dataset ✅\n",
    "Plotting labels to RTSD/yolov5m65/labels.jpg... \n",
    "Image sizes 1280 train, 1280 val\n",
    "Using 2 dataloader workers\n",
    "Logging results to RTSD/yolov5m65\n",
    "Starting training for 10 epochs...\n",
    "\n",
    "      Epoch    GPU_mem   box_loss   obj_loss   cls_loss  Instances       Size\n",
    "        0/9      10.9G    0.02729    0.01036    0.05008          3       1280: 100% 7742/7742 [1:49:42<00:00,  1.18it/s]\n",
    "                 Class     Images  Instances          P          R      mAP50   mAP50-95: 100% 358/358 [02:58<00:00,  2.00it/s]\n",
    "                   all       5000       8866      0.958     0.0693     0.0854     0.0577\n",
    "\n",
    "      Epoch    GPU_mem   box_loss   obj_loss   cls_loss  Instances       Size\n",
    "        1/9      11.4G    0.02356      0.006    0.02908          1       1280: 100% 7742/7742 [1:47:44<00:00,  1.20it/s]\n",
    "                 Class     Images  Instances          P          R      mAP50   mAP50-95: 100% 358/358 [02:57<00:00,  2.02it/s]\n",
    "                   all       5000       8866      0.908      0.174        0.2       0.14"
   ]
  },
  {
   "cell_type": "code",
   "execution_count": null,
   "id": "c02d50d9",
   "metadata": {},
   "outputs": [],
   "source": [
    "os.getcwd()"
   ]
  },
  {
   "cell_type": "code",
   "execution_count": null,
   "id": "17332362",
   "metadata": {},
   "outputs": [],
   "source": [
    "os.chdir(\"..\")"
   ]
  },
  {
   "cell_type": "code",
   "execution_count": null,
   "id": "112778de",
   "metadata": {},
   "outputs": [],
   "source": [
    "from google.colab import drive\n",
    "drive.mount('/content/drive')"
   ]
  },
  {
   "cell_type": "code",
   "execution_count": null,
   "id": "e36df258",
   "metadata": {},
   "outputs": [],
   "source": [
    "!cp -r /content/yolov5/RTSD/yolov5m65 /content/drive/MyDrive"
   ]
  },
  {
   "cell_type": "code",
   "execution_count": null,
   "id": "d91d59a2",
   "metadata": {},
   "outputs": [],
   "source": [
    "# !python train.py --resume /content/drive/MyDrive/RTSD/yolov5s6/weights/last.pt"
   ]
  },
  {
   "cell_type": "raw",
   "id": "669e2112",
   "metadata": {},
   "source": [
    "train: weights=yolov5s.pt, cfg=, data=data/coco128.yaml, hyp=data/hyps/hyp.scratch-low.yaml, epochs=100, batch_size=16, imgsz=640, rect=False, resume=/content/drive/MyDrive/RTSD/yolov5s6/weights/last.pt, nosave=False, noval=False, noautoanchor=False, noplots=False, evolve=None, bucket=, cache=None, image_weights=False, device=, multi_scale=False, single_cls=False, optimizer=SGD, sync_bn=False, workers=8, project=runs/train, name=exp, exist_ok=False, quad=False, cos_lr=False, label_smoothing=0.0, patience=100, freeze=[0], save_period=-1, seed=0, local_rank=-1, entity=None, upload_dataset=False, bbox_interval=-1, artifact_alias=latest\n",
    "github: up to date with https://github.com/ultralytics/yolov5 ✅\n",
    "YOLOv5 🚀 v7.0-140-g1db9533 Python-3.9.16 torch-2.0.0+cu118 CUDA:0 (Tesla T4, 15102MiB)\n",
    "\n",
    "hyperparameters: lr0=0.01, lrf=0.01, momentum=0.937, weight_decay=0.0005, warmup_epochs=3.0, warmup_momentum=0.8, warmup_bias_lr=0.1, box=0.05, cls=0.5, cls_pw=1.0, obj=1.0, obj_pw=1.0, iou_t=0.2, anchor_t=4.0, fl_gamma=0.0, hsv_h=0.015, hsv_s=0.7, hsv_v=0.4, degrees=0.0, translate=0.1, scale=0.5, shear=0.0, perspective=0.0, flipud=0.0, fliplr=0.5, mosaic=1.0, mixup=0.0, copy_paste=0.0\n",
    "ClearML: run 'pip install clearml' to automatically track, visualize and remotely train YOLOv5 🚀 in ClearML\n",
    "Comet: run 'pip install comet_ml' to automatically track and visualize YOLOv5 🚀 runs in Comet\n",
    "TensorBoard: Start with 'tensorboard --logdir RTSD', view at http://localhost:6006/\n",
    "\n",
    "                 from  n    params  module                                  arguments                     \n",
    "  0                -1  1      3520  models.common.Conv                      [3, 32, 6, 2, 2]              \n",
    "  1                -1  1     18560  models.common.Conv                      [32, 64, 3, 2]                \n",
    "  2                -1  1     18816  models.common.C3                        [64, 64, 1]                   \n",
    "  3                -1  1     73984  models.common.Conv                      [64, 128, 3, 2]               \n",
    "  4                -1  2    115712  models.common.C3                        [128, 128, 2]                 \n",
    "  5                -1  1    295424  models.common.Conv                      [128, 256, 3, 2]              \n",
    "  6                -1  3    625152  models.common.C3                        [256, 256, 3]                 \n",
    "  7                -1  1    885504  models.common.Conv                      [256, 384, 3, 2]              \n",
    "  8                -1  1    665856  models.common.C3                        [384, 384, 1]                 \n",
    "  9                -1  1   1770496  models.common.Conv                      [384, 512, 3, 2]              \n",
    " 10                -1  1   1182720  models.common.C3                        [512, 512, 1]                 \n",
    " 11                -1  1    656896  models.common.SPPF                      [512, 512, 5]                 \n",
    " 12                -1  1    197376  models.common.Conv                      [512, 384, 1, 1]              \n",
    " 13                -1  1         0  torch.nn.modules.upsampling.Upsample    [None, 2, 'nearest']          \n",
    " 14           [-1, 8]  1         0  models.common.Concat                    [1]                           \n",
    " 15                -1  1    813312  models.common.C3                        [768, 384, 1, False]          \n",
    " 16                -1  1     98816  models.common.Conv                      [384, 256, 1, 1]              \n",
    " 17                -1  1         0  torch.nn.modules.upsampling.Upsample    [None, 2, 'nearest']          \n",
    " 18           [-1, 6]  1         0  models.common.Concat                    [1]                           \n",
    " 19                -1  1    361984  models.common.C3                        [512, 256, 1, False]          \n",
    " 20                -1  1     33024  models.common.Conv                      [256, 128, 1, 1]              \n",
    " 21                -1  1         0  torch.nn.modules.upsampling.Upsample    [None, 2, 'nearest']          \n",
    " 22           [-1, 4]  1         0  models.common.Concat                    [1]                           \n",
    " 23                -1  1     90880  models.common.C3                        [256, 128, 1, False]          \n",
    " 24                -1  1    147712  models.common.Conv                      [128, 128, 3, 2]              \n",
    " 25          [-1, 20]  1         0  models.common.Concat                    [1]                           \n",
    " 26                -1  1    296448  models.common.C3                        [256, 256, 1, False]          \n",
    " 27                -1  1    590336  models.common.Conv                      [256, 256, 3, 2]              \n",
    " 28          [-1, 16]  1         0  models.common.Concat                    [1]                           \n",
    " 29                -1  1    715008  models.common.C3                        [512, 384, 1, False]          \n",
    " 30                -1  1   1327872  models.common.Conv                      [384, 384, 3, 2]              \n",
    " 31          [-1, 12]  1         0  models.common.Concat                    [1]                           \n",
    " 32                -1  1   1313792  models.common.C3                        [768, 512, 1, False]          \n",
    " 33  [23, 26, 29, 32]  1    616320  models.yolo.Detect                      [155, [[19, 27, 44, 40, 38, 94], [96, 68, 86, 152, 180, 137], [140, 301, 303, 264, 238, 542], [436, 615, 739, 380, 925, 792]], [128, 256, 384, 512]]\n",
    "Model summary: 281 layers, 12915520 parameters, 12915520 gradients, 17.6 GFLOPs\n",
    "\n",
    "Transferred 459/459 items from /content/drive/MyDrive/RTSD/yolov5s6/weights/last.pt\n",
    "AMP: checks passed ✅\n",
    "AutoBatch: Computing optimal batch size for --imgsz 1280\n",
    "AutoBatch: CUDA:0 (Tesla T4) 14.75G total, 0.40G reserved, 0.10G allocated, 14.25G free\n",
    "      Params      GFLOPs  GPU_mem (GB)  forward (ms) backward (ms)                   input                  output\n",
    "    12915520       70.55         0.931         44.15         113.8      (1, 3, 1280, 1280)                    list\n",
    "    12915520       141.1         1.783         40.08         73.42      (2, 3, 1280, 1280)                    list\n",
    "    12915520       282.2         3.435         56.74         86.89      (4, 3, 1280, 1280)                    list\n",
    "    12915520       564.4         6.637         115.1         138.3      (8, 3, 1280, 1280)                    list\n",
    "    12915520        1129        13.032         235.7         266.1     (16, 3, 1280, 1280)                    list\n",
    "AutoBatch: Using batch-size 13 for CUDA:0 11.13G/14.75G (75%) ✅\n",
    "optimizer: SGD(lr=0.01) with parameter groups 75 weight(decay=0.0), 79 weight(decay=0.0005078125), 79 bias\n",
    "Resuming training from /content/drive/MyDrive/RTSD/yolov5s6/weights/last.pt from epoch 9 to 10 total epochs\n",
    "albumentations: Blur(p=0.01, blur_limit=(3, 7)), MedianBlur(p=0.01, blur_limit=(3, 7)), ToGray(p=0.01), CLAHE(p=0.01, clip_limit=(1, 4.0), tile_grid_size=(8, 8))\n",
    "train: Scanning /content/train_annotation/labels... 54188 images, 0 backgrounds, 0 corrupt: 100% 54188/54188 [02:07<00:00, 423.86it/s] \n",
    "train: New cache created: /content/train_annotation/labels.cache\n",
    "val: Scanning /content/test_annotation/labels... 5000 images, 0 backgrounds, 0 corrupt: 100% 5000/5000 [00:17<00:00, 292.71it/s]\n",
    "val: New cache created: /content/test_annotation/labels.cache\n",
    "Plotting labels to RTSD/yolov5m6/labels.jpg... \n",
    "Image sizes 1280 train, 1280 val\n",
    "Using 2 dataloader workers\n",
    "Logging results to RTSD/yolov5m6\n",
    "Starting training for 10 epochs...\n",
    "\n",
    "      Epoch    GPU_mem   box_loss   obj_loss   cls_loss  Instances       Size\n",
    "        9/9      10.8G     0.0151   0.004668    0.01274         10       1280: 100% 4169/4169 [1:40:08<00:00,  1.44s/it]\n",
    "                 Class     Images  Instances          P          R      mAP50   mAP50-95: 100% 193/193 [02:41<00:00,  1.20it/s]\n",
    "                   all       5000       8866      0.827      0.442      0.478      0.355\n",
    "\n",
    "1 epochs completed in 1.714 hours.\n",
    "Optimizer stripped from RTSD/yolov5m6/weights/last.pt, 26.6MB\n",
    "Optimizer stripped from RTSD/yolov5m6/weights/best.pt, 26.6MB\n",
    "\n",
    "Validating RTSD/yolov5m6/weights/best.pt...\n",
    "Fusing layers... \n",
    "Model summary: 206 layers, 12901408 parameters, 0 gradients, 17.4 GFLOPs\n",
    "                 Class     Images  Instances          P          R      mAP50   mAP50-95: 100% 193/193 [02:41<00:00,  1.19it/s]\n",
    "                   all       5000       8866      0.827      0.441      0.478      0.355\n",
    "                   2_1       5000        934      0.919      0.984      0.985      0.773\n",
    "                  1_23       5000        229      0.886      0.986      0.982      0.752\n",
    "                  1_17       5000        107      0.877      0.944      0.972      0.719\n",
    "                  3_24       5000        343      0.836      0.983      0.966      0.726\n",
    "                 8_2_1       5000         74      0.499      0.932      0.791      0.582\n",
    "                  5_20       5000        154      0.841      0.974      0.971      0.741\n",
    "                5_19_1       5000       2117      0.841      0.976      0.969      0.721\n",
    "                  5_16       5000        445       0.85      0.982      0.973      0.696\n",
    "                  3_25       5000         10      0.879        0.6      0.669      0.474\n",
    "                  6_16       5000         97       0.76      0.907      0.901       0.65\n",
    "                  7_15       5000          3          1          0      0.024     0.0201\n",
    "                   2_2       5000         47       0.87      0.936      0.949      0.757\n",
    "                   2_4       5000        340      0.879      0.965      0.985      0.744\n",
    "                8_13_1       5000         14      0.824      0.714      0.806      0.599\n",
    "                 4_2_1       5000        120       0.79      0.975      0.903      0.644\n",
    "                1_20_3       5000         11          1          0      0.195       0.13\n",
    "                  1_25       5000         89      0.806      0.989      0.963      0.706\n",
    "                   3_4       5000          1          1          0     0.0293     0.0263\n",
    "                 8_3_2       5000          5          1          0      0.184     0.0879\n",
    "                 3_4_1       5000         50      0.774       0.92       0.94      0.677\n",
    "                 4_1_6       5000         11          1          0      0.118     0.0937\n",
    "                 4_2_3       5000         76      0.895      0.961      0.968      0.725\n",
    "                 4_1_1       5000        196      0.916      0.974      0.976      0.729\n",
    "                  1_33       5000          5          1          0      0.057     0.0422\n",
    "                5_15_5       5000        108      0.869      0.991       0.99      0.745\n",
    "                  3_27       5000        290       0.85      0.969      0.977      0.731\n",
    "                  1_15       5000         12      0.544        0.5      0.482      0.383\n",
    "               4_1_2_1       5000         14      0.424      0.857      0.605      0.402\n",
    "                 6_3_1       5000         20       0.93       0.95      0.964      0.696\n",
    "                 8_1_1       5000         13       0.39      0.692      0.481      0.358\n",
    "                   6_7       5000          9          1          0      0.135      0.106\n",
    "                5_15_3       5000        144      0.899      0.984      0.982      0.756\n",
    "                   7_3       5000         93      0.889      0.935      0.971      0.738\n",
    "                  1_19       5000          5          1          0        0.2       0.17\n",
    "                   6_4       5000         96      0.853      0.965       0.95      0.693\n",
    "                 8_1_4       5000          2          1          0     0.0172     0.0118\n",
    "                   8_8       5000          5          1          0      0.188      0.156\n",
    "                  1_16       5000         31      0.494       0.63      0.596      0.447\n",
    "                1_11_1       5000         36      0.439       0.75      0.541      0.395\n",
    "                   6_6       5000         67      0.789      0.925      0.937      0.669\n",
    "                5_15_1       5000        131      0.883      0.954      0.972      0.761\n",
    "                   7_2       5000         15      0.168        0.2      0.283      0.227\n",
    "                5_15_2       5000        440      0.887       0.98      0.981      0.726\n",
    "                  7_12       5000          7          1          0      0.084     0.0712\n",
    "                  3_18       5000         20       0.37       0.65       0.47      0.286\n",
    "                   5_6       5000         60      0.891      0.967      0.976      0.746\n",
    "                   5_5       5000         81      0.819      0.947      0.955      0.713\n",
    "                   7_4       5000         11      0.449      0.818      0.525      0.395\n",
    "                 4_1_2       5000         44      0.603      0.932      0.872      0.632\n",
    "                 8_2_2       5000         16          1      0.608      0.808      0.571\n",
    "                  7_11       5000         12          1          0      0.312      0.228\n",
    "                  1_22       5000         77      0.913      0.948      0.973      0.745\n",
    "                  1_27       5000          7          1          0      0.358      0.299\n",
    "                 2_3_2       5000         85      0.473      0.929      0.595      0.446\n",
    "              5_15_2_2       5000        116       0.84      0.957      0.967      0.793\n",
    "                   1_8       5000         27      0.654      0.489      0.667      0.494\n",
    "                  3_13       5000         21      0.655       0.81       0.81      0.603\n",
    "                   2_3       5000         22          0          0      0.148      0.116\n",
    "                 2_3_3       5000         58      0.336      0.759      0.369      0.276\n",
    "                   7_7       5000         14      0.558      0.929      0.584      0.443\n",
    "                  1_11       5000         35      0.534      0.851      0.546      0.391\n",
    "                  8_13       5000         47      0.767      0.936      0.935      0.694\n",
    "                1_12_2       5000         16          1          0      0.269      0.209\n",
    "                  1_20       5000         12          1          0      0.152      0.111\n",
    "                  1_12       5000         20          1          0       0.22      0.155\n",
    "                  3_32       5000          7      0.382      0.286      0.193      0.152\n",
    "                   2_5       5000         49      0.885       0.98       0.98      0.769\n",
    "                   3_1       5000         86      0.795        0.9        0.9      0.582\n",
    "                 4_8_2       5000          5          1          0     0.0804     0.0609\n",
    "                  3_20       5000        142      0.927          1      0.993      0.748\n",
    "                   3_2       5000         15      0.698      0.773       0.83      0.573\n",
    "                 2_3_6       5000          1          1          0          0          0\n",
    "                  5_18       5000          3          1          0    0.00626     0.0045\n",
    "                   7_5       5000         30       0.44      0.833       0.81      0.662\n",
    "                 8_4_1       5000          5          1          0      0.117     0.0903\n",
    "                  3_14       5000          3          1          0      0.042     0.0319\n",
    "                   1_2       5000         32      0.566      0.571      0.613      0.486\n",
    "                1_20_2       5000         37      0.546      0.943      0.797      0.592\n",
    "                 4_1_4       5000        103      0.772      0.981      0.856      0.653\n",
    "                   7_6       5000          5          1          0     0.0268     0.0198\n",
    "                 8_1_3       5000          4          1          0     0.0438     0.0325\n",
    "                 8_3_1       5000         16      0.432      0.618      0.448      0.282\n",
    "                   4_3       5000         16     0.0707    0.00884      0.624      0.435\n",
    "                 4_1_5       5000         16          1          0      0.182      0.146\n",
    "                 8_2_3       5000          7          0          0      0.203      0.143\n",
    "                 8_2_4       5000          8        0.6      0.625       0.61      0.464\n",
    "                  1_31       5000          3          1          0     0.0807     0.0645\n",
    "                  3_10       5000          3          1          0      0.042     0.0271\n",
    "                 4_2_2       5000         41      0.676      0.863      0.904      0.607\n",
    "                   7_1       5000          5          1          0     0.0901      0.063\n",
    "                  3_28       5000         34      0.853      0.912      0.955      0.659\n",
    "                 4_1_3       5000          7          1          0      0.119      0.107\n",
    "                   5_3       5000          4      0.926        0.5      0.622      0.403\n",
    "                  3_31       5000         15      0.834        0.8       0.87      0.692\n",
    "                   6_2       5000         13       0.79      0.846      0.829      0.604\n",
    "                  1_21       5000          7          1          0     0.0436     0.0325\n",
    "                  3_21       5000         45      0.931      0.978      0.987       0.73\n",
    "                  1_13       5000          6          1          0      0.253      0.179\n",
    "                  1_14       5000          9          1          0      0.283      0.217\n",
    "                 2_3_4       5000          1          1          0     0.0226     0.0204\n",
    "                6_15_2       5000          4          1          0      0.129     0.0925\n",
    "                   2_6       5000          4          1          0      0.132      0.114\n",
    "                3_18_2       5000         22      0.599      0.318      0.656      0.517\n",
    "               4_1_2_2       5000         11      0.511          1      0.812        0.6\n",
    "                   1_7       5000          2          1          0    0.00292    0.00263\n",
    "                  3_19       5000          5          1          0      0.049     0.0414\n",
    "                  1_18       5000          2          1          0     0.0133     0.0105\n",
    "                   2_7       5000          1          1          0          0          0\n",
    "                 8_5_4       5000          7          1          0      0.196      0.139\n",
    "                5_15_7       5000         45      0.875      0.933       0.95      0.766\n",
    "                  5_14       5000         27      0.573      0.889      0.857      0.632\n",
    "                  5_21       5000          6          1          0     0.0749     0.0523\n",
    "                   1_1       5000          3          1          0      0.108     0.0811\n",
    "                6_15_1       5000         13       0.73      0.692      0.783      0.535\n",
    "                 8_6_4       5000          5          1          0      0.161      0.116\n",
    "                  8_15       5000         21      0.675      0.857      0.838      0.537\n",
    "                  3_11       5000          3          1          0     0.0075     0.0053\n",
    "                  8_18       5000          2          1          0    0.00428    0.00343\n",
    "                 8_4_4       5000          4          1          0     0.0926     0.0685\n",
    "                  3_30       5000          6          1          0      0.448      0.335\n",
    "                 5_7_1       5000          8      0.283      0.741      0.389      0.224\n",
    "                 5_7_2       5000         11      0.543          1      0.681      0.509\n",
    "                   1_5       5000          7          1          0      0.138      0.108\n",
    "                  3_29       5000         10          1          0      0.351      0.248\n",
    "                  5_12       5000          1          1          0          0          0\n",
    "                  5_11       5000          5          1          0      0.636      0.588\n",
    "                 8_6_2       5000          2          1          0    0.00955    0.00573\n",
    "                  3_12       5000          2          1          0    0.00773    0.00695\n",
    "                 8_4_3       5000          3          1          0     0.0109    0.00875\n",
    "                   5_8       5000          6          1          0      0.175      0.127\n",
    "                  8_17       5000          2          1          0    0.00747    0.00597\n",
    "                   3_6       5000          3          1          0    0.00621    0.00497\n",
    "                  1_26       5000          1          1          0          0          0\n",
    "                 8_5_2       5000          3          1          0     0.0201     0.0116\n",
    "                 6_8_1       5000          1          1          0          0          0\n",
    "                  5_17       5000          1          1          0          0          0\n",
    "                  1_10       5000          4          1          0     0.0111    0.00856\n",
    "                  7_18       5000          1          1          0     0.0166     0.0133\n",
    "                  7_14       5000          2          1          0     0.0423     0.0423\n",
    "Results saved to RTSD/yolov5m6"
   ]
  },
  {
   "cell_type": "code",
   "execution_count": null,
   "id": "8403f33e",
   "metadata": {},
   "outputs": [],
   "source": [
    "# !python /content/yolov5/detect.py --source /content/img --weights /content/best.pt --save-txt --save-conf --name \"yolov5m6_signs_test\" --imgsz 1280 --exist-ok --conf-thres 0.1"
   ]
  }
 ],
 "metadata": {
  "kernelspec": {
   "display_name": "Python 3 (ipykernel)",
   "language": "python",
   "name": "python3"
  },
  "language_info": {
   "codemirror_mode": {
    "name": "ipython",
    "version": 3
   },
   "file_extension": ".py",
   "mimetype": "text/x-python",
   "name": "python",
   "nbconvert_exporter": "python",
   "pygments_lexer": "ipython3",
   "version": "3.9.12"
  }
 },
 "nbformat": 4,
 "nbformat_minor": 5
}
