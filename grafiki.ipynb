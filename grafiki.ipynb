{
 "cells": [
  {
   "cell_type": "code",
   "execution_count": 24,
   "id": "2f391c74",
   "metadata": {},
   "outputs": [],
   "source": [
    "import numpy as np\n",
    "import pandas as pd\n",
    "import os\n",
    "import json\n",
    "from PIL import Image\n",
    "import matplotlib.patches as patches\n",
    "import matplotlib.pyplot as plt\n",
    "from matplotlib.pyplot import figure\n",
    "%matplotlib inline\n",
    "import seaborn as sns\n",
    "import random\n",
    "import cv2\n",
    "# from pycocotools.coco import COCO\n",
    "import time\n",
    "\n",
    "import warnings\n",
    "warnings.filterwarnings('ignore')\n",
    "\n",
    "import torch\n",
    "import torchvision\n",
    "from torch.utils.data import Dataset, DataLoader\n",
    "import torchvision.transforms as transforms\n",
    "# import albumentations as A\n",
    "# from albumentations.pytorch import ToTensorV2\n",
    "\n",
    "import torchvision.models as models\n",
    "from torchvision.models.detection.faster_rcnn import FastRCNNPredictor\n",
    "from torchvision.models.detection import FasterRCNN\n",
    "\n",
    "from torchvision.models import mobilenet_v3_large\n",
    "import torch.nn as nn\n",
    "from torch.nn import functional as F"
   ]
  },
  {
   "cell_type": "code",
   "execution_count": 25,
   "id": "e5713ec2",
   "metadata": {},
   "outputs": [
    {
     "data": {
      "text/plain": [
       "'cpu'"
      ]
     },
     "execution_count": 25,
     "metadata": {},
     "output_type": "execute_result"
    }
   ],
   "source": [
    "device_id = -1\n",
    "device = 'cpu' if device_id == -1 else f'cuda:{device_id}'\n",
    "\n",
    "device"
   ]
  },
  {
   "cell_type": "code",
   "execution_count": null,
   "id": "7b0a5c48",
   "metadata": {},
   "outputs": [],
   "source": [
    "''' torch.save({'epoch': epoch,\n",
    "                    'model_state_dict': model1.state_dict(),\n",
    "                    'optimizer_state_dict': optimizer1.state_dict(),\n",
    "                    'loss_train': loss1_train,\n",
    "                    'loss_val': loss1_val,\n",
    "                    }, f'./chkpt_model1_d_{epoch}.pth') '''"
   ]
  },
  {
   "cell_type": "code",
   "execution_count": null,
   "id": "84bd1f2f",
   "metadata": {},
   "outputs": [],
   "source": [
    "epoch: 8, step: 0, loss: 0.11465675383806229\n",
    "epoch: 8, step: 100, loss: 0.06095666438341141\n",
    "epoch: 8, step: 200, loss: 0.061912138015031815\n",
    "epoch: 8, step: 300, loss: 0.06928233802318573\n",
    "epoch: 8, step: 400, loss: 0.061911068856716156\n",
    "epoch: 8, step: 500, loss: 0.06494654715061188\n",
    "epoch: 8, step: 600, loss: 0.04671867936849594\n",
    "epoch: 8, step: 700, loss: 0.06772258132696152\n",
    "epoch: 8, step: 800, loss: 0.04367842897772789\n",
    "epoch: 8, step: 900, loss: 0.07615616917610168\n",
    "epoch: 8, step: 1000, loss: 0.05269436538219452\n",
    "epoch: 8, step: 1100, loss: 0.08676540851593018\n",
    "epoch: 8, step: 1200, loss: 0.05103033408522606\n",
    "epoch: 8, step: 1300, loss: 0.04741634801030159\n",
    "epoch: 8, step: 1400, loss: 0.04464217647910118\n",
    "epoch: 8, step: 1500, loss: 0.07110461592674255\n",
    "epoch: 8, step: 1600, loss: 0.08723729103803635\n",
    "epoch: 8, step: 1700, loss: 0.05729527771472931\n",
    "epoch: 8, step: 1800, loss: 0.06858286261558533\n",
    "epoch: 8, step: 1900, loss: 0.08864135295152664\n",
    "epoch: 8, step: 2000, loss: 0.052128467708826065\n",
    "epoch: 8, step: 2100, loss: 0.05340799689292908\n",
    "epoch: 8, step: 2200, loss: 0.07954356074333191\n",
    "epoch: 8, step: 2300, loss: 0.06505334377288818\n",
    "epoch: 8, step: 2400, loss: 0.08370300382375717\n",
    "epoch: 8, step: 2500, loss: 0.04661274701356888\n",
    "epoch: 8, step: 2600, loss: 0.06618595868349075\n",
    "epoch: 8, step: 2700, loss: 0.07413885742425919\n",
    "epoch: 8, step: 2800, loss: 0.044667307287454605\n",
    "epoch: 8, step: 2900, loss: 0.04066767916083336\n",
    "epoch: 8, step: 3000, loss: 0.05110293626785278\n",
    "epoch: 8, step: 3100, loss: 0.06553219258785248\n",
    "epoch: 8, step: 3200, loss: 0.0568765290081501\n",
    "epoch: 8, step: 3300, loss: 0.05977854132652283\n",
    "epoch: 8, step: 3400, loss: 0.04232174903154373\n",
    "epoch: 8, step: 3500, loss: 0.06616692245006561\n",
    "epoch: 8, step: 3600, loss: 0.058075983077287674\n",
    "epoch: 8, step: 3700, loss: 0.05872802808880806\n",
    "epoch: 8, step: 3800, loss: 0.038321349769830704\n",
    "epoch: 8, step: 3900, loss: 0.05796002224087715\n",
    "epoch: 8, step: 4000, loss: 0.06606904417276382\n",
    "epoch: 8, step: 4100, loss: 0.08068716526031494\n",
    "epoch: 8, step: 4200, loss: 0.11630742251873016\n",
    "epoch: 8, step: 4300, loss: 0.06167994439601898\n",
    "epoch: 8, step: 4400, loss: 0.0537746399641037\n",
    "epoch: 8, step: 4500, loss: 0.05673856660723686\n",
    "epoch: 8, step: 4600, loss: 0.06304197758436203\n",
    "epoch: 8, step: 4700, loss: 0.06502911448478699\n",
    "epoch: 8, step: 4800, loss: 0.05750361084938049\n",
    "epoch: 8, step: 4900, loss: 0.06910700350999832\n",
    "epoch: 8, step: 5000, loss: 0.039954472333192825\n",
    "epoch: 8, step: 5100, loss: 0.060733113437891006\n",
    "epoch: 8, step: 5200, loss: 0.08094808459281921\n",
    "epoch: 8, step: 5300, loss: 0.09609630703926086\n",
    "epoch: 8, step: 5400, loss: 0.050675686448812485\n",
    "epoch: 8, step: 5500, loss: 0.11780954897403717\n",
    "epoch: 8, step: 5600, loss: 0.05151147022843361\n",
    "epoch: 8, step: 5700, loss: 0.0758868008852005\n",
    "epoch: 8, step: 5800, loss: 0.09391523897647858\n",
    "epoch: 8, step: 5900, loss: 0.1371631920337677\n",
    "epoch: 8, step: 6000, loss: 0.07445535808801651\n",
    "epoch: 8, step: 6100, loss: 0.03970108553767204\n",
    "epoch: 8, step: 6200, loss: 0.10275699198246002\n",
    "epoch: 8, step: 6300, loss: 0.09197346121072769\n",
    "epoch: 8, step: 6400, loss: 0.05812101066112518\n",
    "epoch: 8, step: 6500, loss: 0.056563932448625565\n",
    "epoch: 8, step: 6600, loss: 0.08163539320230484\n",
    "epoch: 8, step: 6700, loss: 0.06786281615495682\n",
    "epoch: 8, step: 6800, loss: 0.07012347877025604\n",
    "epoch: 8, step: 6900, loss: 0.07919788360595703\n",
    "epoch: 8, step: 7000, loss: 0.07435940951108932\n",
    "epoch: 8, step: 7100, loss: 0.04776246100664139\n",
    "epoch: 8, step: 7200, loss: 0.05909908562898636\n",
    "epoch: 8, step: 7300, loss: 0.06936298310756683\n",
    "epoch: 8, step: 7400, loss: 0.08091621845960617\n",
    "epoch: 8, step: 7500, loss: 0.09632544964551926\n",
    "epoch: 8, step: 7600, loss: 0.06654670089483261\n",
    "epoch: 8, step: 7700, loss: 0.0420994758605957\n",
    "epoch: 8, step: 7800, loss: 0.05553479865193367\n",
    "epoch: 8, step: 7900, loss: 0.04440377652645111\n",
    "Эпоха train: 8 Итераций: 7931 train loss: 9.093099652916708e-06\n",
    "epoch: 8, step: 0, loss: 0.04210697486996651\n",
    "epoch: 8, step: 100, loss: 0.0393771231174469\n",
    "epoch: 8, step: 200, loss: 0.034705258905887604\n",
    "epoch: 8, step: 300, loss: 0.05905282869935036\n",
    "epoch: 8, step: 400, loss: 0.15857379138469696\n",
    "epoch: 8, step: 500, loss: 0.0938638374209404\n",
    "epoch: 8, step: 600, loss: 0.07090742886066437\n",
    "epoch: 8, step: 700, loss: 0.09134680032730103\n",
    "epoch: 8, step: 800, loss: 0.08628299832344055\n",
    "Потрачено 321.1 минут на 8 эпоху\n",
    "Эпоха val: 8 Итераций: 832 val loss: 3.200718604672987e-05\n",
    "epoch: 9, step: 0, loss: 0.0914456844329834\n",
    "epoch: 9, step: 100, loss: 0.07005184143781662\n",
    "epoch: 9, step: 200, loss: 0.0562298484146595\n",
    "epoch: 9, step: 300, loss: 0.06629473716020584\n",
    "epoch: 9, step: 400, loss: 0.05440688133239746\n",
    "epoch: 9, step: 500, loss: 0.062358446419239044\n",
    "epoch: 9, step: 600, loss: 0.05483250319957733\n",
    "epoch: 9, step: 700, loss: 0.07313770055770874\n",
    "epoch: 9, step: 800, loss: 0.076283760368824\n",
    "epoch: 9, step: 900, loss: 0.05799609795212746\n",
    "epoch: 9, step: 1000, loss: 0.09902697056531906\n",
    "epoch: 9, step: 1100, loss: 0.05737515166401863\n",
    "epoch: 9, step: 1200, loss: 0.09910544753074646\n",
    "epoch: 9, step: 1300, loss: 0.05055427923798561\n",
    "epoch: 9, step: 1400, loss: 0.08951665461063385\n",
    "epoch: 9, step: 1500, loss: 0.0362640842795372\n",
    "epoch: 9, step: 1600, loss: 0.08637844026088715\n",
    "epoch: 9, step: 1700, loss: 0.06718795001506805\n",
    "epoch: 9, step: 1800, loss: 0.054767921566963196"
   ]
  },
  {
   "cell_type": "code",
   "execution_count": 76,
   "id": "0bcb9f0f",
   "metadata": {},
   "outputs": [],
   "source": [
    "checkpoint1 = torch.load('./m1_d/chkpt_model1_d_7.pth', map_location=device)"
   ]
  },
  {
   "cell_type": "code",
   "execution_count": 77,
   "id": "ac9cf793",
   "metadata": {},
   "outputs": [
    {
     "data": {
      "text/plain": [
       "Text(0.5, 1.0, 'fasterrcnn_resnet50_fpn_v2')"
      ]
     },
     "execution_count": 77,
     "metadata": {},
     "output_type": "execute_result"
    },
    {
     "data": {
      "image/png": "[encoded data removed]",
      "text/plain": [
       "<Figure size 432x288 with 1 Axes>"
      ]
     },
     "metadata": {
      "needs_background": "light"
     },
     "output_type": "display_data"
    }
   ],
   "source": [
    "# тренировка на большом датасете\n",
    "t = 'fasterrcnn_resnet50_fpn_v2'\n",
    "fig, ax  = plt.subplots()\n",
    "ax.plot(checkpoint1['loss_train'], label='Train')\n",
    "ax.plot(checkpoint1['loss_val'], label='Val')\n",
    "ax.set(xlabel='Epoch', ylabel='Loss')\n",
    "ax.legend()\n",
    "plt.title('{}'.format(t))"
   ]
  },
  {
   "cell_type": "code",
   "execution_count": 78,
   "id": "e514a31c",
   "metadata": {},
   "outputs": [],
   "source": [
    "checkpoint2 = torch.load('./m1_clf/chkpt_model1_clf_9.pth', map_location=device)"
   ]
  },
  {
   "cell_type": "code",
   "execution_count": 81,
   "id": "83350771",
   "metadata": {},
   "outputs": [],
   "source": [
    "t = 'mobilenet_v3_large'"
   ]
  },
  {
   "cell_type": "code",
   "execution_count": 82,
   "id": "f8565866",
   "metadata": {},
   "outputs": [
    {
     "data": {
      "text/plain": [
       "Text(0.5, 1.0, 'mobilenet_v3_large')"
      ]
     },
     "execution_count": 82,
     "metadata": {},
     "output_type": "execute_result"
    },
    {
     "data": {
      "image/png": "[encoded data removed]",
      "text/plain": [
       "<Figure size 432x288 with 1 Axes>"
      ]
     },
     "metadata": {
      "needs_background": "light"
     },
     "output_type": "display_data"
    }
   ],
   "source": [
    "# тренировка на большом датасете\n",
    "fig, ax  = plt.subplots()\n",
    "ax.plot(checkpoint2['loss_train'], label='Train')\n",
    "ax.plot(checkpoint2['loss_val'], label='Val')\n",
    "ax.set(xlabel='Epoch', ylabel='Loss')\n",
    "ax.legend()\n",
    "plt.title('{}'.format(t))"
   ]
  },
  {
   "cell_type": "code",
   "execution_count": 86,
   "id": "308735ba",
   "metadata": {},
   "outputs": [
    {
     "data": {
      "text/plain": [
       "Text(0.5, 1.0, 'mobilenet_v3_large')"
      ]
     },
     "execution_count": 86,
     "metadata": {},
     "output_type": "execute_result"
    },
    {
     "data": {
      "image/png": "[encoded data removed]",
      "text/plain": [
       "<Figure size 432x288 with 1 Axes>"
      ]
     },
     "metadata": {
      "needs_background": "light"
     },
     "output_type": "display_data"
    }
   ],
   "source": [
    "fig, ax  = plt.subplots()\n",
    "ax.plot(checkpoint2['acc_train'], label='Train')\n",
    "ax.plot(checkpoint2['acc_val'], label='Val')\n",
    "ax.set(xlabel='Epoch', ylabel='Loss')\n",
    "ax.legend()\n",
    "plt.title('{}'.format(t))"
   ]
  }
 ],
 "metadata": {
  "kernelspec": {
   "display_name": "Python 3 (ipykernel)",
   "language": "python",
   "name": "python3"
  },
  "language_info": {
   "codemirror_mode": {
    "name": "ipython",
    "version": 3
   },
   "file_extension": ".py",
   "mimetype": "text/x-python",
   "name": "python",
   "nbconvert_exporter": "python",
   "pygments_lexer": "ipython3",
   "version": "3.9.12"
  }
 },
 "nbformat": 4,
 "nbformat_minor": 5
}
